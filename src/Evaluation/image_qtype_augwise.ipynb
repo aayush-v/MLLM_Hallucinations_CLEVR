{
 "cells": [
  {
   "cell_type": "code",
   "execution_count": 1,
   "id": "cae80817-03bc-4fae-aedd-c247760b2542",
   "metadata": {},
   "outputs": [],
   "source": [
    "import numpy as np\n",
    "import json\n",
    "import numpy as np\n",
    "import os\n",
    "import glob"
   ]
  },
  {
   "cell_type": "code",
   "execution_count": 2,
   "id": "3de203b5-752b-4529-92ad-312497cd1fc9",
   "metadata": {},
   "outputs": [],
   "source": [
    "### Compare how different augmentations affect shape and colour type questions - the type of questions that relate to the physical aspects of the image"
   ]
  },
  {
   "cell_type": "code",
   "execution_count": 13,
   "id": "ffb6e1cf-7739-4551-9375-11adb387522f",
   "metadata": {},
   "outputs": [],
   "source": [
    "def questionType_augWise_analysis(baseline_path, augmentation_path, results_path, augmentation_analysis={}, baselines_analysis={}, answerType='colour'):\n",
    "    for num in range(3, 11):\n",
    "        base_path = os.path.join(baseline_path, f\"val_num_{num}.json\")\n",
    "        baselines_file = open(base_path)\n",
    "        baselines_object = json.load(baselines_file)\n",
    "\n",
    "        baselines_dict = dict()\n",
    "        for answer in baselines_object:\n",
    "            if answer['answer_type'] != answerType:\n",
    "                continue\n",
    "                \n",
    "            if 'yes' in answer['consistent'].lower() or 'true' in answer['consistent'].lower():\n",
    "                key = \"correct\"\n",
    "            elif 'no' in answer['consistent'].lower() or 'false' in answer['consistent'].lower():\n",
    "                key = \"incorrect\"\n",
    "            else:\n",
    "                key = \"unknown\"\n",
    "        \n",
    "            baselines_dict[answer['question_index']] = key\n",
    "\n",
    "\n",
    "        aug_path = os.path.join(augmentation_path, f\"val_num_{num}.json\")\n",
    "        aug_file = open(aug_path)\n",
    "        json_object = json.load(aug_file)\n",
    "\n",
    "        for answer in json_object:\n",
    "            if answer['answer_type'] != answerType:\n",
    "                continue\n",
    "                \n",
    "            augmentation = answer['img_aug_conf'].split('(')[0]\n",
    "\n",
    "            q_idx = answer['question_index']\n",
    "            baseline_answer = baselines_dict[q_idx]\n",
    "            baselines_analysis[augmentation] = baselines_analysis.get(augmentation, {'correct':0, \n",
    "                                                    'incorrect':0,\n",
    "                                                    'total':0,\n",
    "                                                    'unknown':0})\n",
    "            if baseline_answer != \"unknown\":\n",
    "                baselines_analysis[augmentation]['total'] += 1\n",
    "            baselines_analysis[augmentation][baselines_dict[q_idx]] += 1\n",
    "\n",
    "\n",
    "            augmentation_analysis[augmentation] = augmentation_analysis.get(augmentation, {'correct':0, \n",
    "                                                    'incorrect':0,\n",
    "                                                    'total':0,\n",
    "                                                    'unknown':0})\n",
    "            augmentation_analysis[augmentation]['total'] += 1\n",
    "            key = \"unknown\"\n",
    "            consistent = answer[\"consistent\"]\n",
    "            if 'yes' in consistent.lower() or 'true' in consistent.lower():\n",
    "                key = \"correct\"\n",
    "            elif 'no' in consistent.lower() or 'false' in consistent.lower():\n",
    "                key = \"incorrect\"\n",
    "            else:\n",
    "                augmentation_analysis[augmentation]['total'] -= 1\n",
    "\n",
    "\n",
    "            augmentation_analysis[augmentation][key] += 1\n",
    "\n",
    "    for key in augmentation_analysis:\n",
    "        augmentation_analysis[key]['accuracy'] = augmentation_analysis[key]['correct']/(augmentation_analysis[key]['correct'] + augmentation_analysis[key]['incorrect'])\n",
    "\n",
    "    for key in baselines_analysis:\n",
    "        baselines_analysis[key]['accuracy'] = baselines_analysis[key]['correct']/(baselines_analysis[key]['correct'] + baselines_analysis[key]['incorrect'])\n",
    "\n",
    "\n",
    "    # print(answerType)\n",
    "    # print('BASELINES',baselines_analysis)\n",
    "    # print('AUGMENTATION', augmentation_analysis)\n",
    "    results_file = open(results_path, 'w')\n",
    "    json.dump([baselines_analysis, augmentation_analysis], results_file)\n",
    "    results_file.close()\n",
    "\n"
   ]
  },
  {
   "cell_type": "code",
   "execution_count": 14,
   "id": "66f22248-a20f-440c-ac33-b7270a9d6db0",
   "metadata": {},
   "outputs": [],
   "source": [
    "qType = ['colour', 'shape']\n",
    "models = ['InstructBLIP', 'LLaMA', 'LLaVA']\n",
    "for model in models:\n",
    "    for type in qType:\n",
    "        questionType_augWise_analysis(f\"/scratch/averma90/MLLM_Hallucinations_CLEVR/outputs/baselines/Zephyr_Results/{model}\",\n",
    "                                      f\"/scratch/averma90/MLLM_Hallucinations_CLEVR/outputs/Image_Augmentation/Zephyr_Results/{model}\",\n",
    "                                      f\"/scratch/averma90/MLLM_Hallucinations_CLEVR/outputs/Image_Augmentation/Zephyr_Analysis/{model}/{type}_augmentation_wise_compiled_results.json\",\n",
    "                                     answerType=type)"
   ]
  },
  {
   "cell_type": "code",
   "execution_count": null,
   "id": "52174e10-2dd1-4e02-9435-f20b7dc010e4",
   "metadata": {},
   "outputs": [],
   "source": []
  }
 ],
 "metadata": {
  "kernelspec": {
   "display_name": "Python 3",
   "language": "python",
   "name": "python3"
  },
  "language_info": {
   "codemirror_mode": {
    "name": "ipython",
    "version": 3
   },
   "file_extension": ".py",
   "mimetype": "text/x-python",
   "name": "python",
   "nbconvert_exporter": "python",
   "pygments_lexer": "ipython3",
   "version": "3.11.6"
  }
 },
 "nbformat": 4,
 "nbformat_minor": 5
}
