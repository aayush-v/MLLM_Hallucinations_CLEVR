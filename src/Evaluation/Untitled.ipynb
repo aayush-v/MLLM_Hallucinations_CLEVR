{
 "cells": [
  {
   "cell_type": "code",
   "execution_count": 1,
   "id": "7b0f74b7-0882-4f07-9052-9325dfba4358",
   "metadata": {},
   "outputs": [],
   "source": [
    "import json\n",
    "import os\n",
    "import glob\n",
    "import matplotlib.pyplot as plt\n",
    "import numpy as np"
   ]
  },
  {
   "cell_type": "code",
   "execution_count": 2,
   "id": "02b47d6f-669a-41f5-ae3f-cd3c9489a188",
   "metadata": {},
   "outputs": [],
   "source": [
    "def total_eval_(path):\n",
    "    model_eval = {'total': {'correct':0, 'incorrect':0, 'total':0, 'unknown':0}}\n",
    "    \n",
    "    for num_objects in range(3,11):\n",
    "        file = open(os.path.join(path, f'val_num_{num_objects}.json'))\n",
    "        json_object = json.load(file)\n",
    "\n",
    "        for key in ['yes-no', 'number', 'shape', 'size', 'relation', 'colour', 'material']:\n",
    "            if key not in json_object.keys():\n",
    "                continue\n",
    "            \n",
    "            model_eval[key] = model_eval.get(key, {'correct':0, \n",
    "                                                  'incorrect':0,\n",
    "                                                  'total':0,\n",
    "                                                  'unknown':0})\n",
    "            # print(json_object[key].keys())\n",
    "            # print(model_eval)\n",
    "            \n",
    "            model_eval[key] = {k: model_eval[key][k] + json_object[key][k] for k in json_object[key].keys()}\n",
    "            # print(model_eval)\n",
    "            \n",
    "            model_eval['total'] =  {k: model_eval['total'][k] + json_object[key][k] for k in json_object[key].keys()}\n",
    "    \n",
    "    print(model_eval)\n",
    "        "
   ]
  },
  {
   "cell_type": "code",
   "execution_count": 3,
   "id": "4f5828c1-2a4c-4be2-9729-021fbea8672e",
   "metadata": {},
   "outputs": [
    {
     "name": "stdout",
     "output_type": "stream",
     "text": [
      "{'total': {'correct': 31627, 'incorrect': 40573, 'unknown': 23, 'total': 72223}, 'yes-no': {'correct': 15226, 'incorrect': 14334, 'unknown': 0, 'total': 29560}, 'number': {'correct': 9696, 'incorrect': 14567, 'unknown': 0, 'total': 24263}, 'shape': {'correct': 4080, 'incorrect': 5078, 'unknown': 4, 'total': 9162}, 'colour': {'correct': 2625, 'incorrect': 6594, 'unknown': 19, 'total': 9238}}\n"
     ]
    }
   ],
   "source": [
    "total_eval_('/scratch/averma90/MLLM_Hallucinations_CLEVR/outputs/baselines/Zephyr_Analysis/InstructBLIP')"
   ]
  },
  {
   "cell_type": "code",
   "execution_count": 4,
   "id": "b9f5e932-64bd-4b65-b104-7abb9cf8f7d5",
   "metadata": {},
   "outputs": [
    {
     "name": "stdout",
     "output_type": "stream",
     "text": [
      "{'total': {'correct': 36599, 'incorrect': 35606, 'unknown': 18, 'total': 72223}, 'yes-no': {'correct': 15840, 'incorrect': 13720, 'unknown': 0, 'total': 29560}, 'number': {'correct': 15296, 'incorrect': 8967, 'unknown': 0, 'total': 24263}, 'shape': {'correct': 3858, 'incorrect': 5304, 'unknown': 0, 'total': 9162}, 'colour': {'correct': 1605, 'incorrect': 7615, 'unknown': 18, 'total': 9238}}\n"
     ]
    }
   ],
   "source": [
    "total_eval_('/scratch/averma90/MLLM_Hallucinations_CLEVR/outputs/baselines/Zephyr_Analysis/LLaMA')"
   ]
  },
  {
   "cell_type": "code",
   "execution_count": 5,
   "id": "103b84d6-8016-405a-a974-ed1caaae25e1",
   "metadata": {},
   "outputs": [
    {
     "name": "stdout",
     "output_type": "stream",
     "text": [
      "{'total': {'correct': 38269, 'incorrect': 33947, 'unknown': 7, 'total': 72223}, 'yes-no': {'correct': 15113, 'incorrect': 14447, 'unknown': 0, 'total': 29560}, 'number': {'correct': 16009, 'incorrect': 8253, 'unknown': 1, 'total': 24263}, 'shape': {'correct': 3927, 'incorrect': 5235, 'unknown': 0, 'total': 9162}, 'colour': {'correct': 3220, 'incorrect': 6012, 'unknown': 6, 'total': 9238}}\n"
     ]
    }
   ],
   "source": [
    "total_eval_('/scratch/averma90/MLLM_Hallucinations_CLEVR/outputs/baselines/Zephyr_Analysis/LLaVA')"
   ]
  },
  {
   "cell_type": "code",
   "execution_count": null,
   "id": "41fcc9b1-e957-425f-a53f-2f3e6d37a427",
   "metadata": {},
   "outputs": [],
   "source": []
  },
  {
   "cell_type": "code",
   "execution_count": 1,
   "id": "7f510684-fa52-4e74-94fd-d13b2acc8f16",
   "metadata": {},
   "outputs": [],
   "source": [
    "def calculate_precision_recall(tp, fp, tn, fn):\n",
    "    precision = tp / (tp + fp) if (tp + fp) != 0 else 0\n",
    "    recall = tp / (tp + fn) if (tp + fn) != 0 else 0\n",
    "    f1 = 2 * precision * recall / (precision + recall)\n",
    "    return precision, recall, f1"
   ]
  },
  {
   "cell_type": "code",
   "execution_count": 2,
   "id": "7a72e151-8996-486e-9465-60fa25070741",
   "metadata": {},
   "outputs": [],
   "source": [
    "def precision_recall_lang_aug(path):\n",
    "    file = open(path)\n",
    "    json_object = json.load(file)\n",
    "    yes = {}\n",
    "    no = {}\n",
    "    \n",
    "    # TP = 0\n",
    "    # FP = 0\n",
    "    for q_type in ['orig', 'and', 'or_', 'not', 'complex']:\n",
    "    # for q_type in ['or_']:\n",
    "        # class yes\n",
    "        for key in json_object.keys():\n",
    "            if q_type not in key:\n",
    "                continue\n",
    "            if 'yes' in key and '_correct' in key:\n",
    "                TP = json_object[key]\n",
    "                # print(TP, key)\n",
    "            elif 'yes' in key and 'incorrect' in key:\n",
    "                FN = json_object[key]\n",
    "            elif 'no' in key and '_correct' in key:\n",
    "                TN = json_object[key]\n",
    "            elif 'no' in key and 'incorrect' in key:\n",
    "                FP = json_object[key]\n",
    "        # print('CLASS YES', q_type)\n",
    "        # print(TP, FP, TN, FN)\n",
    "        yes[q_type] = (calculate_precision_recall(TP, FP, TN, FN)[2])\n",
    "\n",
    "    \n",
    "    for q_type in ['orig', 'and', 'or_', 'not', 'complex']:\n",
    "        # class no\n",
    "        for key in json_object.keys():\n",
    "            if q_type not in key:\n",
    "                continue\n",
    "            if 'no' in key and '_correct' in key:\n",
    "                TP = json_object[key]\n",
    "            elif 'no' in key and 'incorrect' in key:\n",
    "                FN = json_object[key]\n",
    "            elif 'yes' in key and '_correct' in key:\n",
    "                TN = json_object[key]\n",
    "            elif 'yes' in key and 'incorrect' in key:\n",
    "                FP = json_object[key]\n",
    "        # print('CLASS NO', q_type)\n",
    "        no[q_type] = (calculate_precision_recall(TP, FP, TN, FN)[2])\n",
    "\n",
    "    print(yes)\n",
    "    print(no)"
   ]
  },
  {
   "cell_type": "code",
   "execution_count": null,
   "id": "980e805b-500a-4631-87bc-2b710f10c881",
   "metadata": {},
   "outputs": [],
   "source": [
    "precision_recall_lang_aug('/scratch/averma90/MLLM_Hallucinations_CLEVR/outputs/lang_aug_2/Zephyr_Results/LLaVA')"
   ]
  },
  {
   "cell_type": "code",
   "execution_count": 18,
   "id": "e49a1e0d-b684-4a3c-9438-1ffc3918cadb",
   "metadata": {},
   "outputs": [
    {
     "name": "stdout",
     "output_type": "stream",
     "text": [
      "{'orig': 0.4930593486900345, 'and': 0.619458526588286, 'or_': 0.7207062600321027, 'not': 0.4844471648767458, 'complex': 0.6475431679501459}\n",
      "{'orig': 0.531448566404958, 'and': 0.2848165416582202, 'or_': 0.4887659868648462, 'not': 0.654668504825166, 'complex': 0.3095929648913815}\n"
     ]
    }
   ],
   "source": [
    "# precision_recall_lang_aug('/scratch/averma90/MLLM_Hallucinations_CLEVR/outputs/language_augmentation/Zephyr_Analysis/InstructBLIP/new_compiled_results.json')"
   ]
  },
  {
   "cell_type": "code",
   "execution_count": 19,
   "id": "a7a1f9ce-1c3b-4d6f-a1a1-1d49ed2c8203",
   "metadata": {},
   "outputs": [
    {
     "name": "stdout",
     "output_type": "stream",
     "text": [
      "{'orig': 0.5370608591669234, 'and': 0.5774211198249133, 'or_': 0.7594803555462052, 'not': 0.6674301866562697, 'complex': 0.6279066441666904}\n",
      "{'orig': 0.5383155954682617, 'and': 0.4183750313781273, 'or_': 0.6672971989814478, 'not': 0.48969289019772827, 'complex': 0.3589326631680095}\n"
     ]
    }
   ],
   "source": [
    "# precision_recall_lang_aug('/scratch/averma90/MLLM_Hallucinations_CLEVR/outputs/language_augmentation/Zephyr_Analysis/LLaMA/new_compiled_results.json')"
   ]
  },
  {
   "cell_type": "code",
   "execution_count": 20,
   "id": "b2cd3de6-0607-4dbc-bfa4-13c5c84da2b7",
   "metadata": {},
   "outputs": [
    {
     "name": "stdout",
     "output_type": "stream",
     "text": [
      "{'orig': 0.6576012700230321, 'and': 0.6691503080670583, 'or_': 0.7543667602684309, 'not': 0.6610357241761285, 'complex': 0.6813309685379396}\n",
      "{'orig': 0.2188047382952825, 'and': 0.07231820008035356, 'or_': 0.560653783944837, 'not': 0.717488789237668, 'complex': 0.24195175639732183}\n"
     ]
    }
   ],
   "source": [
    "# precision_recall_lang_aug('/scratch/averma90/MLLM_Hallucinations_CLEVR/outputs/language_augmentation/Zephyr_Analysis/LLaVA/new_compiled_results.json')"
   ]
  },
  {
   "cell_type": "code",
   "execution_count": null,
   "id": "d87d06d6-9e40-4055-a90e-99d8f305d65c",
   "metadata": {},
   "outputs": [],
   "source": []
  }
 ],
 "metadata": {
  "kernelspec": {
   "display_name": "Python 3",
   "language": "python",
   "name": "python3"
  },
  "language_info": {
   "codemirror_mode": {
    "name": "ipython",
    "version": 3
   },
   "file_extension": ".py",
   "mimetype": "text/x-python",
   "name": "python",
   "nbconvert_exporter": "python",
   "pygments_lexer": "ipython3",
   "version": "3.11.6"
  }
 },
 "nbformat": 4,
 "nbformat_minor": 5
}
